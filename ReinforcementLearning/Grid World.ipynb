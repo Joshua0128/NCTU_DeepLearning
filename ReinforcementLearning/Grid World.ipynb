{
 "cells": [
  {
   "cell_type": "code",
   "execution_count": 1,
   "metadata": {},
   "outputs": [],
   "source": [
    "import numpy as np"
   ]
  },
  {
   "cell_type": "code",
   "execution_count": 2,
   "metadata": {},
   "outputs": [],
   "source": [
    "from gridworld import GridWorld"
   ]
  },
  {
   "cell_type": "code",
   "execution_count": 3,
   "metadata": {},
   "outputs": [
    {
     "data": {
      "text/html": [
       "<table border=1><tr><td style='width: 2em;height: 2em;background: #888'><img src='img/radiation.png' style='width: 1.5em;height: 1.5em;'/></td><td style='width: 2em;height: 2em;background: #888'><img src='img/radiation.png' style='width: 1.5em;height: 1.5em;'/></td><td style='width: 2em;height: 2em;background: #888'><img src='img/radiation.png' style='width: 1.5em;height: 1.5em;'/></td><td style='width: 2em;height: 2em;background: #888'><img src='img/radiation.png' style='width: 1.5em;height: 1.5em;'/></td><td style='width: 2em;height: 2em;background: #888'><img src='img/radiation.png' style='width: 1.5em;height: 1.5em;'/></td><td style='width: 2em;height: 2em;background: #888'><img src='img/radiation.png' style='width: 1.5em;height: 1.5em;'/></td><td style='width: 2em;height: 2em;background: #888'><img src='img/radiation.png' style='width: 1.5em;height: 1.5em;'/></td></tr><tr><td style='width: 2em;height: 2em;background: #888'><img src='img/radiation.png' style='width: 1.5em;height: 1.5em;'/></td><td style='width: 2em;height: 2em;background: #888'><img src='img/pacman.png' style='width: 1.5em;height: 1.5em;transform: rotate(0deg)'/></td><td style='width: 2em;height: 2em;background: #888'></td><td style='width: 2em;height: 2em;background: #888'></td><td style='width: 2em;height: 2em;background: #888'></td><td style='width: 2em;height: 2em;background: #888'></td><td style='width: 2em;height: 2em;background: #888'><img src='img/radiation.png' style='width: 1.5em;height: 1.5em;'/></td></tr><tr><td style='width: 2em;height: 2em;background: #888'><img src='img/radiation.png' style='width: 1.5em;height: 1.5em;'/></td><td style='width: 2em;height: 2em;background: #888'></td><td style='width: 2em;height: 2em;background: #888'><img src='img/skull.png' style='width: 1.5em;height: 1.5em;'/></td><td style='width: 2em;height: 2em;background: #888'></td><td style='width: 2em;height: 2em;background: #888'></td><td style='width: 2em;height: 2em;background: #888'></td><td style='width: 2em;height: 2em;background: #888'><img src='img/radiation.png' style='width: 1.5em;height: 1.5em;'/></td></tr><tr><td style='width: 2em;height: 2em;background: #888'><img src='img/radiation.png' style='width: 1.5em;height: 1.5em;'/></td><td style='width: 2em;height: 2em;background: #888'></td><td style='width: 2em;height: 2em;background: #888'></td><td style='width: 2em;height: 2em;background: #888'></td><td style='width: 2em;height: 2em;background: #888'></td><td style='width: 2em;height: 2em;background: #888'></td><td style='width: 2em;height: 2em;background: #888'><img src='img/radiation.png' style='width: 1.5em;height: 1.5em;'/></td></tr><tr><td style='width: 2em;height: 2em;background: #888'><img src='img/radiation.png' style='width: 1.5em;height: 1.5em;'/></td><td style='width: 2em;height: 2em;background: #888'></td><td style='width: 2em;height: 2em;background: #888'></td><td style='width: 2em;height: 2em;background: #888'></td><td style='width: 2em;height: 2em;background: #888'><img src='img/skull.png' style='width: 1.5em;height: 1.5em;'/></td><td style='width: 2em;height: 2em;background: #888'></td><td style='width: 2em;height: 2em;background: #888'><img src='img/radiation.png' style='width: 1.5em;height: 1.5em;'/></td></tr><tr><td style='width: 2em;height: 2em;background: #888'><img src='img/radiation.png' style='width: 1.5em;height: 1.5em;'/></td><td style='width: 2em;height: 2em;background: #888'></td><td style='width: 2em;height: 2em;background: #888'></td><td style='width: 2em;height: 2em;background: #888'></td><td style='width: 2em;height: 2em;background: #888'></td><td style='width: 2em;height: 2em;background: #888'><img src='img/cherry.png' style='width: 1.5em;height: 1.5em;'/></td><td style='width: 2em;height: 2em;background: #888'><img src='img/radiation.png' style='width: 1.5em;height: 1.5em;'/></td></tr><tr><td style='width: 2em;height: 2em;background: #888'><img src='img/radiation.png' style='width: 1.5em;height: 1.5em;'/></td><td style='width: 2em;height: 2em;background: #888'><img src='img/radiation.png' style='width: 1.5em;height: 1.5em;'/></td><td style='width: 2em;height: 2em;background: #888'><img src='img/radiation.png' style='width: 1.5em;height: 1.5em;'/></td><td style='width: 2em;height: 2em;background: #888'><img src='img/radiation.png' style='width: 1.5em;height: 1.5em;'/></td><td style='width: 2em;height: 2em;background: #888'><img src='img/radiation.png' style='width: 1.5em;height: 1.5em;'/></td><td style='width: 2em;height: 2em;background: #888'><img src='img/radiation.png' style='width: 1.5em;height: 1.5em;'/></td><td style='width: 2em;height: 2em;background: #888'><img src='img/radiation.png' style='width: 1.5em;height: 1.5em;'/></td></tr></table>"
      ],
      "text/plain": [
       "<gridworld.GridWorld at 0x7f705d2f4e10>"
      ]
     },
     "execution_count": 3,
     "metadata": {},
     "output_type": "execute_result"
    }
   ],
   "source": [
    "blocks={(1,1), (3,3)}\n",
    "gw = GridWorld(size=(5,5), start=(0,0), exit=(4,4), blocks=blocks)\n",
    "gw"
   ]
  },
  {
   "cell_type": "code",
   "execution_count": 10,
   "metadata": {},
   "outputs": [],
   "source": [
    "from ipywidgets import widgets as W\n",
    "from IPython.display import display"
   ]
  },
  {
   "cell_type": "code",
   "execution_count": 12,
   "metadata": {},
   "outputs": [
    {
     "name": "stdout",
     "output_type": "stream",
     "text": [
      "cp: cannot create directory '/root/notebooks/img': Input/output error\n"
     ]
    }
   ],
   "source": [
    "!cp -r img ~"
   ]
  },
  {
   "cell_type": "code",
   "execution_count": 6,
   "metadata": {},
   "outputs": [
    {
     "data": {
      "application/vnd.jupyter.widget-view+json": {
       "model_id": "6efdf5cd03984a38a9dbd0a9ff307e4c",
       "version_major": 2,
       "version_minor": 0
      },
      "text/plain": [
       "HBox(children=(HTML(value=\"<table border=1><tr><td style='width: 2em;height: 2em;background: #888'><img src='i…"
      ]
     },
     "metadata": {},
     "output_type": "display_data"
    }
   ],
   "source": [
    "gw_html = W.HTML(value=gw._repr_html_())\n",
    "\n",
    "def gw_move(i):\n",
    "    def func(b=None):\n",
    "        gw_html.value = gw.move(i)._repr_html_()\n",
    "    return func\n",
    "\n",
    "def gw_restart(b=None):\n",
    "    gw.restart()\n",
    "    gw_html.value = gw._repr_html_()\n",
    "buttons = [] \n",
    "for i, bn in enumerate(['arrow-right', 'arrow-up', \n",
    "                        'arrow-left', 'arrow-down', 'refresh']):\n",
    "    b = W.Button(icon='fa-'+bn, layout=W.Layout(width='5em'))\n",
    "    b.on_click(gw_move(i) if i<4 else gw_restart)\n",
    "    buttons.append(b)\n",
    "\n",
    "W.HBox([gw_html, W.VBox(buttons)])\n"
   ]
  },
  {
   "cell_type": "markdown",
   "metadata": {},
   "source": [
    "### Random player\n",
    "\n",
    "用隨機玩家玩玩看"
   ]
  },
  {
   "cell_type": "code",
   "execution_count": null,
   "metadata": {
    "collapsed": true,
    "jupyter": {
     "outputs_hidden": true
    }
   },
   "outputs": [],
   "source": [
    "from random import randint\n",
    "from time import sleep\n",
    "def random_play(g):\n",
    "    while True:\n",
    "        gw_html.value = g._repr_html_()\n",
    "        sleep(0.1)\n",
    "        if g.is_end():\n",
    "            break\n",
    "        a = randint(0,3)\n",
    "        g.move(a)\n",
    "for i in range(10)        :\n",
    "    gw.restart()\n",
    "    random_play(gw)"
   ]
  },
  {
   "cell_type": "markdown",
   "metadata": {},
   "source": [
    "## Reinforcement Learning\n",
    "\n",
    "* Goals?\n",
    "* Rewards?\n",
    "    * at each step $t$, a reward is a number $R_t$\n",
    "* The goal is to maximizing the total rewards\n",
    "    * $ G_t = R_{t+1} + R_{t+2} + R_{t+3} + \\cdots + R_T $\n",
    "* 朝三暮四\n",
    "    * $ G_t = R_{t+1} + \\gamma R_{t+2} + \\gamma ^2 R_{t+3} + \\cdots  $"
   ]
  },
  {
   "cell_type": "markdown",
   "metadata": {},
   "source": [
    "# Tabular Metod"
   ]
  },
  {
   "cell_type": "markdown",
   "metadata": {},
   "source": [
    "## State Value\n",
    "\n",
    "* Policy $\\pi$\n",
    "* $S_t$ is the state at step $t$\n",
    "* $v_{\\pi}(s) = E[G_t | S_t = s] $\n",
    "* only if we knew what $v_\\pi$ is\n",
    "\n"
   ]
  },
  {
   "cell_type": "markdown",
   "metadata": {},
   "source": [
    "### Bellman Equation\n",
    "如果用 $a, r, s'$ 分別代表動作、獎勵、下一步的狀態。那麼\n",
    "\n",
    "$ v_\\pi (s) = \\sum_a \\pi(a|s) \\sum_{s',r} p(s', r'|s , a)(r+\\gamma v_k(s') ) $\n",
    "\n",
    "意思是 $v_\\pi (s)$   等於考慮各種可能的動作、和結果後 $r + \\gamma v(s')$  的期望值"
   ]
  },
  {
   "cell_type": "code",
   "execution_count": null,
   "metadata": {
    "collapsed": true,
    "jupyter": {
     "outputs_hidden": true
    }
   },
   "outputs": [],
   "source": [
    "gw_html"
   ]
  },
  {
   "cell_type": "code",
   "execution_count": null,
   "metadata": {
    "collapsed": true,
    "jupyter": {
     "outputs_hidden": true
    }
   },
   "outputs": [],
   "source": [
    "# 先全部當成 0\n",
    "from time import sleep\n",
    "from random import randint\n",
    "\n",
    "# 用表格來定義我們的 V 函數\n",
    "V = np.zeros((gw.size[0]+1, gw.size[1]+1))\n",
    "\n",
    "        "
   ]
  },
  {
   "cell_type": "code",
   "execution_count": null,
   "metadata": {
    "collapsed": true,
    "jupyter": {
     "outputs_hidden": true
    }
   },
   "outputs": [],
   "source": [
    "from random import randint\n",
    "\n",
    "# 隨機玩，並且紀錄過程\n",
    "def random_play(g, gw_html=None):\n",
    "    history = []\n",
    "    while True:\n",
    "        history.append(g.pos)\n",
    "        if gw_html is not None:\n",
    "            gw_html.value = g._repr_html_()\n",
    "            sleep(0.01)\n",
    "        if g.is_end():\n",
    "            break\n",
    "        a = randint(0,3)\n",
    "        g.move(a)\n",
    "    return history\n",
    "\n",
    "α = 0.1\n",
    "γ = 0.9\n",
    "gw.V = V\n",
    "for i in range(1000)        :\n",
    "    gw.restart()\n",
    "    history = random_play(gw, gw_html)\n",
    "    r = gw.score\n",
    "    v_next = 0\n",
    "    for pos in reversed(history):\n",
    "        v = r + γ*v_next\n",
    "        V[pos] = V[pos] + α * (v-V[pos])\n",
    "        v_next = v\n",
    "        r = 0"
   ]
  },
  {
   "cell_type": "code",
   "execution_count": null,
   "metadata": {
    "collapsed": true,
    "jupyter": {
     "outputs_hidden": true
    }
   },
   "outputs": [],
   "source": [
    "# 快速的近似 V 函數\n",
    "\n",
    "from random import randint\n",
    "display(gw_html)\n",
    "α = 0.2\n",
    "γ = 0.95\n",
    "gw.V = V\n",
    "for i in range(1000)        :\n",
    "    gw.restart()\n",
    "    gw_html.value = gw._repr_html_()\n",
    "    history = random_play(gw)        \n",
    "    r = gw.score\n",
    "    v_next = 0\n",
    "    for pos in reversed(history):\n",
    "        v = r + γ*v_next\n",
    "        V[pos] = V[pos] + α * (v-V[pos])\n",
    "        v_next = v\n",
    "        r = 0\n"
   ]
  },
  {
   "cell_type": "markdown",
   "metadata": {},
   "source": [
    "有了 V 函數，看看要如何找到 policy"
   ]
  },
  {
   "cell_type": "code",
   "execution_count": null,
   "metadata": {
    "collapsed": true,
    "jupyter": {
     "outputs_hidden": true
    }
   },
   "outputs": [],
   "source": [
    "def next_pos(pos, d):\n",
    "    return (pos[0]+abs(d-1)-1, pos[1]+abs(d-2)-1)\n",
    "\n",
    "def update_max_A(gw):\n",
    "    if gw.A is None:\n",
    "        gw.A= -np.ones_like(gw.V)\n",
    "    for i in range(gw.size[0]):\n",
    "        for j in range(gw.size[1]):\n",
    "            gw.A[i,j] = np.argmax([V[next_pos((i,j),a)] for a in range(4)])    \n",
    "    gw_html.value = gw._repr_html_()\n",
    "update_max_A(gw)"
   ]
  },
  {
   "cell_type": "code",
   "execution_count": null,
   "metadata": {
    "collapsed": true,
    "jupyter": {
     "outputs_hidden": true
    }
   },
   "outputs": [],
   "source": [
    "# 定義我們的 epsilon greedy\n",
    "from random import randint, random, shuffle, choice\n",
    "ϵ = 0.3\n",
    "\n",
    "def epsilon_greedy(g):\n",
    "    history = []\n",
    "    actions = [0,1,2,3]\n",
    "    while True:\n",
    "        history.append(g.pos)\n",
    "        gw_html.value = g._repr_html_()\n",
    "        sleep(0.03)        \n",
    "        if g.is_end():\n",
    "            break\n",
    "        if random()< ϵ:\n",
    "            a = choice(actions)\n",
    "        else:\n",
    "            a = np.argmax([V[g.next_pos(d)] for d in actions])\n",
    "        g.move(a)\n",
    "    return history\n",
    "\n",
    "α = 0.1\n",
    "γ = 0.9\n",
    "gw.V = V\n",
    "for i in range(100)        :\n",
    "    gw.restart()\n",
    "    gw_html.value = gw._repr_html_()\n",
    "    history = epsilon_greedy(gw)        \n",
    "    r = gw.score\n",
    "    v_next = 0\n",
    "    for pos in reversed(history):\n",
    "        v = r + γ*v_next\n",
    "        V[pos] = V[pos] + α * (v-V[pos])\n",
    "        v_next = v\n",
    "        r = 0\n",
    "    update_max_A(gw)"
   ]
  },
  {
   "cell_type": "code",
   "execution_count": null,
   "metadata": {
    "collapsed": true,
    "jupyter": {
     "outputs_hidden": true
    }
   },
   "outputs": [],
   "source": [
    "# 避免掉一些循環的情形\n",
    "from random import randint, random, shuffle, choice\n",
    "ϵ = 0.3\n",
    "V[...] = 0\n",
    "gw_html = W.HTML()\n",
    "display(gw_html)\n",
    "α = 0.1\n",
    "γ = 0.95\n",
    "gw.V = V\n",
    "for i in range(200):\n",
    "    gw.restart()\n",
    "    gw_html.value = gw._repr_html_()\n",
    "    history = epsilon_greedy(gw)       \n",
    "    r = gw.score\n",
    "    # 這裡用來紀錄是否更新過\n",
    "    v_next = 0\n",
    "    visited = set()\n",
    "    not_visited = set(history)\n",
    "    for pos in reversed(history):\n",
    "        v = r + γ*v_next        \n",
    "        if pos not in visited:\n",
    "            V[pos] = V[pos] + α * (v-V[pos])\n",
    "            not_visited.remove(pos)\n",
    "            visited.add(pos)\n",
    "        v_next = V[pos]\n",
    "        r = 0\n",
    "    update_max_A(gw)\n",
    "    # ϵ *=0.99"
   ]
  },
  {
   "cell_type": "markdown",
   "metadata": {},
   "source": [
    "使用不同的方法更新 `V` \n",
    "\n",
    "`V[S] += α*(r+γ*max(V[S'|a] for all a) - V[S])`"
   ]
  },
  {
   "cell_type": "code",
   "execution_count": null,
   "metadata": {
    "collapsed": true,
    "jupyter": {
     "outputs_hidden": true
    }
   },
   "outputs": [],
   "source": [
    "from random import randint, random, shuffle, choice\n",
    "\n",
    "ϵ = .3\n",
    "V[...] = 0\n",
    "gw_html = W.HTML()\n",
    "display(gw_html)\n",
    "def random_play(g):\n",
    "    history = []\n",
    "    actions = [0,1,2,3]\n",
    "    while True:\n",
    "        history.append(g.pos)\n",
    "        gw_html.value = g._repr_html_()\n",
    "        sleep(0.01)        \n",
    "        if g.is_end():\n",
    "            break\n",
    "        if random()< ϵ:\n",
    "            a = choice(actions)\n",
    "        else:\n",
    "            a = np.argmax([V[g.next_pos(d)] for d in actions])\n",
    "        g.move(a)        \n",
    "    return history\n",
    "\n",
    "\n",
    "α = 0.1\n",
    "γ = 0.95\n",
    "gw.V = V\n",
    "for i in range(200):\n",
    "    gw.restart()\n",
    "    history = random_play(gw)\n",
    "    r = gw.score\n",
    "    v_next = 0\n",
    "    visited = set()\n",
    "    not_visited = set(history)\n",
    "    for pos in reversed(history):\n",
    "        if r == 0:\n",
    "            npos = [next_pos(pos, a) for a in range(4)]\n",
    "            vs = [V[p] for p in npos if p not in not_visited]\n",
    "            vs = [v for v in vs if v!=2]            \n",
    "            v_next = max(v for v in vs if v!=2)            \n",
    "        v = r + γ*v_next\n",
    "        if pos not in visited:\n",
    "            if V[pos]==2:                  \n",
    "                V[pos] =  α * v\n",
    "            else:\n",
    "                V[pos] = V[pos] + α * (v-V[pos])\n",
    "            not_visited.remove(pos)\n",
    "            visited.add(pos)\n",
    "        v_next = V[pos]\n",
    "        r = 0\n",
    "    update_max_A(gw)"
   ]
  },
  {
   "cell_type": "code",
   "execution_count": null,
   "metadata": {
    "collapsed": true,
    "jupyter": {
     "outputs_hidden": true
    }
   },
   "outputs": [],
   "source": [
    "#另外一個可以試試看的 grid world\n",
    "gw= GridWorld((5,10), (0,0), (0,9))\n",
    "V = np.zeros((gw.size[0]+2, gw.size[1]+2))"
   ]
  },
  {
   "cell_type": "markdown",
   "metadata": {},
   "source": [
    "## TD(0)"
   ]
  },
  {
   "cell_type": "code",
   "execution_count": null,
   "metadata": {
    "collapsed": true,
    "jupyter": {
     "outputs_hidden": true
    }
   },
   "outputs": [],
   "source": [
    "# max policy, random, decay, no duplicate update, max(offline)\n",
    "from random import randint, random, shuffle, choice\n",
    "\n",
    "gw_html = W.HTML()\n",
    "display(gw_html)\n",
    "gw.V = V\n",
    "gw.V[...] = 0\n",
    "def TD0(g):\n",
    "    actions = [0,1,2,3]\n",
    "    while True:\n",
    "        #gw_html.value = g._repr_html_()\n",
    "        if g.is_end():\n",
    "            break\n",
    "        sleep(0.02)        \n",
    "        if random()< ϵ:\n",
    "            a = choice(actions)\n",
    "        else:\n",
    "            a = np.argmax([V[next_pos(g.pos, a)] for a in range(4)])        \n",
    "        g.move(a)\n",
    "        r = g.score\n",
    "        pos = g.pos\n",
    "        V[pos] += α*(r+γ*max(V[next_pos(pos, a)] for a in range(4)) - V[pos])\n",
    "\n",
    "α = 0.1\n",
    "γ = 0.95\n",
    "ϵ = .3\n",
    "for i in range(2000):\n",
    "    gw.restart()\n",
    "    TD0(gw)         \n",
    "    update_max_A(gw)\n",
    "    #ϵ *= 0.99"
   ]
  },
  {
   "cell_type": "markdown",
   "metadata": {},
   "source": [
    "## Q function\n",
    "\n",
    "using $ q(s,a) $ instead of $v(s' | a)$\n",
    "\n",
    "更新方式為 `Q[S][a] += α*(r+γ*Q[S'].max() - Q[S][a])`"
   ]
  },
  {
   "cell_type": "code",
   "execution_count": null,
   "metadata": {
    "collapsed": true,
    "jupyter": {
     "outputs_hidden": true
    }
   },
   "outputs": [],
   "source": [
    "from random import randint, random, shuffle, choice\n",
    "\n",
    "Q = np.full( (gw.size[0]+2, gw.size[1]+2, 4), 0.)\n",
    "gw_html = W.HTML()\n",
    "display(gw_html)\n",
    "\n",
    "def update_VA(gw, Q):\n",
    "    if gw.A is None:\n",
    "        gw.A = np.full( (gw.size[0]+2, gw.size[1]+2), -1)\n",
    "    if gw.V is None:\n",
    "        gw.V = np.full( (gw.size[0]+2, gw.size[1]+2), 2.)\n",
    "    for i in range(gw.size[0]):\n",
    "        for j in range(gw.size[1]):\n",
    "            if Q[i,j].min() == 2:\n",
    "                gw.A[i,j]=-1\n",
    "                gw.V[i,j]= 2\n",
    "            else:\n",
    "                gw.A[i,j] = np.argmax(np.where( Q[i,j] > 1, -2, Q[i,j]))\n",
    "                gw.V[i,j] = np.max(np.where( Q[i,j] > 1, -2, Q[i,j]))\n",
    "    gw_html.value = gw._repr_html_()\n",
    "\n",
    "def Qlearn(g):\n",
    "    actions = [0,1,2,3]\n",
    "    while True:\n",
    "        gw_html.value = g._repr_html_()\n",
    "        if g.is_end():\n",
    "            break\n",
    "        sleep(0.02)        \n",
    "        if random()< ϵ:\n",
    "            a = choice(actions)\n",
    "        else:\n",
    "            a = np.argmax(Q[g.pos])\n",
    "        src_pos = g.pos\n",
    "        g.move(a)    \n",
    "        dst_pos = g.pos\n",
    "        r = g.score\n",
    "        Q[src_pos][a] += α*(r+γ*Q[dst_pos].max() - Q[src_pos][a])\n",
    "\n",
    "α = 0.1\n",
    "γ = 0.95\n",
    "ϵ = .3\n",
    "for i in range(200):\n",
    "    gw.restart()\n",
    "    gw_html.value = gw._repr_html_()\n",
    "    Qlearn(gw)         \n",
    "    update_VA(gw, Q)\n",
    "    #ϵ *= 0.99"
   ]
  },
  {
   "cell_type": "markdown",
   "metadata": {},
   "source": [
    "### Sarsa\n",
    "\n",
    "更新方式為\n",
    "`Q[S][a] += α*(r+γ*Q[S'][a'] - Q[S][a]) `"
   ]
  },
  {
   "cell_type": "code",
   "execution_count": null,
   "metadata": {
    "collapsed": true,
    "jupyter": {
     "outputs_hidden": true
    }
   },
   "outputs": [],
   "source": [
    "# max policy, random, decay, no duplicate update, max(offline)\n",
    "from random import randint, random, shuffle, choice\n",
    "\n",
    "Q = np.full( (gw.size[0]+2, gw.size[1]+2, 4), 0.)\n",
    "gw_html = W.HTML()\n",
    "display(gw_html)\n",
    "\n",
    "def update_Qlearn_VA(gw, Q):\n",
    "    if gw.A is None:\n",
    "        gw.A = np.full( (gw.size[0]+2, gw.size[1]+2), -1)\n",
    "    if gw.V is None:\n",
    "        gw.V = np.full( (gw.size[0]+2, gw.size[1]+2), 2.)\n",
    "    for i in range(gw.size[0]):\n",
    "        for j in range(gw.size[1]):\n",
    "            if Q[i,j].min() == 2:\n",
    "                gw.A[i,j]=-1\n",
    "                gw.V[i,j]= 2\n",
    "            else:\n",
    "                gw.A[i,j] = np.argmax(np.where( Q[i,j] > 1, -2, Q[i,j]))\n",
    "                gw.V[i,j] = np.max(np.where( Q[i,j] > 1, -2, Q[i,j]))\n",
    "    gw_html.value = gw._repr_html_()\n",
    "\n",
    "def SARSA(g):\n",
    "    actions = [0,1,2,3]\n",
    "    prev_a = None\n",
    "    prev_pos = None\n",
    "    while True:\n",
    "        gw_html.value = g._repr_html_()\n",
    "        if random()< ϵ:\n",
    "            a = choice(actions)\n",
    "        else:\n",
    "            a = np.argmax(Q[g.pos])\n",
    "        r = g.score\n",
    "        if prev_a is not None:\n",
    "            Q[prev_pos][prev_a] += α*(r+γ*Q[g.pos][a] - Q[prev_pos][prev_a])                \n",
    "        if g.is_end():            \n",
    "            break\n",
    "        sleep(0.02)\n",
    "        prev_pos = g.pos\n",
    "        g.move(a)\n",
    "        prev_a = a        \n",
    "\n",
    "α = 0.1\n",
    "γ = 0.95\n",
    "ϵ = .3\n",
    "for i in range(200):\n",
    "    gw.restart()\n",
    "    gw_html.value = gw._repr_html_()\n",
    "    SARSA(gw)         \n",
    "    update_Qlearn_VA(gw, Q)\n",
    "    #ϵ *= 0.99"
   ]
  }
 ],
 "metadata": {
  "kernelspec": {
   "display_name": "Python 3",
   "language": "python",
   "name": "python3"
  },
  "language_info": {
   "codemirror_mode": {
    "name": "ipython",
    "version": 3
   },
   "file_extension": ".py",
   "mimetype": "text/x-python",
   "name": "python",
   "nbconvert_exporter": "python",
   "pygments_lexer": "ipython3",
   "version": "3.6.7"
  },
  "widgets": {
   "state": {
    "c45f45cf07f1415981a570d2043cf0bf": {
     "views": [
      {
       "cell_index": 4
      }
     ]
    },
    "f2a1da1b967f4fcb949ce99ac8e3669d": {
     "views": [
      {
       "cell_index": 5
      }
     ]
    }
   },
   "version": "1.2.0"
  }
 },
 "nbformat": 4,
 "nbformat_minor": 4
}
