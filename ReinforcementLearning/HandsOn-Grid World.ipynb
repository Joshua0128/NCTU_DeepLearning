{
 "cells": [
  {
   "cell_type": "code",
   "execution_count": null,
   "metadata": {
    "collapsed": true,
    "jupyter": {
     "outputs_hidden": true
    }
   },
   "outputs": [],
   "source": [
    "import numpy as np"
   ]
  },
  {
   "cell_type": "code",
   "execution_count": null,
   "metadata": {
    "collapsed": true,
    "jupyter": {
     "outputs_hidden": true
    }
   },
   "outputs": [],
   "source": [
    "from gridworld import GridWorld"
   ]
  },
  {
   "cell_type": "code",
   "execution_count": null,
   "metadata": {
    "collapsed": true,
    "jupyter": {
     "outputs_hidden": true
    }
   },
   "outputs": [],
   "source": [
    "blocks={(1,1), (3,3)}\n",
    "gw = GridWorld(size=(5,5), start=(0,0), exit=(4,4), blocks=blocks)\n",
    "gw"
   ]
  },
  {
   "cell_type": "code",
   "execution_count": null,
   "metadata": {
    "collapsed": true,
    "jupyter": {
     "outputs_hidden": true
    }
   },
   "outputs": [],
   "source": [
    "from ipywidgets import widgets as W\n",
    "from IPython.display import display"
   ]
  },
  {
   "cell_type": "code",
   "execution_count": null,
   "metadata": {
    "collapsed": true,
    "jupyter": {
     "outputs_hidden": true
    }
   },
   "outputs": [],
   "source": [
    "gw_html = W.HTML(value=gw._repr_html_())\n",
    "gw.restart()\n",
    "\n",
    "def gw_move(i):\n",
    "    def func(b=None):\n",
    "        gw_html.value = gw.move(i)._repr_html_()\n",
    "    return func\n",
    "\n",
    "def gw_restart(b=None):\n",
    "    gw.restart()\n",
    "    gw_html.value = gw._repr_html_()\n",
    "buttons = [] \n",
    "for i, bn in enumerate(['arrow-right', 'arrow-up', \n",
    "                        'arrow-left', 'arrow-down', 'refresh']):\n",
    "    b = W.Button(icon='fa-'+bn, layout=W.Layout(width='5em'))\n",
    "    b.on_click(gw_move(i) if i<4 else gw_restart)\n",
    "    buttons.append(b)\n",
    "\n",
    "W.HBox([gw_html, W.VBox(buttons)])\n"
   ]
  },
  {
   "cell_type": "markdown",
   "metadata": {},
   "source": [
    "### Random player\n",
    "\n",
    "寫一個 Random player "
   ]
  },
  {
   "cell_type": "code",
   "execution_count": null,
   "metadata": {
    "collapsed": true,
    "jupyter": {
     "outputs_hidden": true
    }
   },
   "outputs": [],
   "source": [
    "from random import randint\n",
    "from time import sleep\n",
    "def random_play(g):\n",
    "    while True:\n",
    "        gw_html.value = g._repr_html_()\n",
    "        sleep(0.1)\n",
    "        if g.is_end():\n",
    "            break\n",
    "        # XXXXXXXXX\n",
    "        # 這裡使用 g.move(a) 來控制\n",
    "        #  a 為 0-3 隨機\n",
    "        #\n",
    "        \n",
    "for i in range(10)        :\n",
    "    gw.restart()\n",
    "    random_play(gw)"
   ]
  },
  {
   "cell_type": "code",
   "execution_count": null,
   "metadata": {
    "collapsed": true,
    "jupyter": {
     "outputs_hidden": true
    }
   },
   "outputs": [],
   "source": [
    "# 先全部當成 0\n",
    "from time import sleep\n",
    "from random import randint\n",
    "\n",
    "# XXXXXXXXX\n",
    "# 用表格來定義我們的 V 函數\n",
    "# 定義一個大小是 (gw.size[0]+1, gw.size[1]+1) 的隨機 array\n",
    "# V = "
   ]
  },
  {
   "cell_type": "code",
   "execution_count": null,
   "metadata": {
    "collapsed": true,
    "jupyter": {
     "outputs_hidden": true
    }
   },
   "outputs": [],
   "source": [
    "# 有了 V 就能用 argmax 找到 policy\n",
    "\n",
    "def next_pos(pos, d):\n",
    "    return (pos[0]+abs(d-1)-1, pos[1]+abs(d-2)-1)\n",
    "\n",
    "def update_max_A(gw):\n",
    "    if gw.A is None:\n",
    "        gw.A= -np.ones_like(gw.V)\n",
    "    for i in range(gw.size[0]):\n",
    "        for j in range(gw.size[1]):\n",
    "            # XXXXXXXXX\n",
    "            # 在 i,j 格的最佳方向\n",
    "            # gw.A[i,j] = np.argmax([V[next_pos((i,j),a)] for a in range(4)])    \n",
    "    gw_html.value = gw._repr_html_()\n",
    "update_max_A(gw)"
   ]
  },
  {
   "cell_type": "markdown",
   "metadata": {},
   "source": [
    "## Q function\n",
    "\n",
    "using $ q(s,a) $ instead of $v(s' | a)$\n",
    "\n",
    "更新方式為 `Q[S][a] += α*(r+γ*Q[S'].max() - Q[S][a])`"
   ]
  },
  {
   "cell_type": "code",
   "execution_count": null,
   "metadata": {
    "collapsed": true,
    "jupyter": {
     "outputs_hidden": true
    }
   },
   "outputs": [],
   "source": [
    "from random import randint, random, shuffle, choice\n",
    "\n",
    "# XXXX \n",
    "# 用表格定義 Q 函數\n",
    "# 大小是 (gw.size[0]+2, gw.size[1]+2, 4)\n",
    "# 起始值是 0.\n",
    "# Q = \n",
    "\n",
    "gw_html = W.HTML()\n",
    "display(gw_html)\n",
    "\n",
    "\n",
    "# 這是用來更新顯示畫面的函數\n",
    "def update_VA(gw, Q):\n",
    "    if gw.A is None:\n",
    "        gw.A = np.full( (gw.size[0]+2, gw.size[1]+2), -1)\n",
    "    if gw.V is None:\n",
    "        gw.V = np.full( (gw.size[0]+2, gw.size[1]+2), 2.)\n",
    "    for i in range(gw.size[0]):\n",
    "        for j in range(gw.size[1]):\n",
    "            # XXXXXXX\n",
    "            # 從 Q 可的算出 V  和 policy\n",
    "            #  gw.V[i,j] = np.max(Q[i,j])\n",
    "            # gw.A[i,j] = np.argmax(Q[i,j])\n",
    "    gw_html.value = gw._repr_html_()\n",
    "\n",
    "def Qlearn(g):\n",
    "    actions = [0,1,2,3]\n",
    "    while True:\n",
    "        gw_html.value = g._repr_html_()\n",
    "        if g.is_end():\n",
    "            break\n",
    "        sleep(0.02)\n",
    "        # XXXXXXXX\n",
    "        # ϵ-greedy 演算法\n",
    "        # ϵ 的機率去探索, 其他則是最佳解法: Q[g.pos] 的 argmax\n",
    "        #\n",
    "        #\n",
    "        #\n",
    "        #\n",
    "        src_pos = g.pos\n",
    "        g.move(a)    \n",
    "        dst_pos = g.pos\n",
    "        r = g.score\n",
    "        # XXXXXXX\n",
    "        # Q learning 的 更新公式\n",
    "        # src_pos 是 s, dst_post 是 s', r 是 reward\n",
    "        # 要如何更新 Q(s, a) ?\n",
    "        # 目標值是 r+γ max_a(Q(s', a))\n",
    "        # learning rate 是 α\n",
    "        #  Q[src_pos][a] += \n",
    "\n",
    "α = 0.1\n",
    "γ = 0.95\n",
    "ϵ = .3\n",
    "for i in range(200):\n",
    "    gw.restart()\n",
    "    gw_html.value = gw._repr_html_()\n",
    "    Qlearn(gw)         \n",
    "    update_VA(gw, Q)\n",
    "    #ϵ *= 0.99"
   ]
  },
  {
   "cell_type": "markdown",
   "metadata": {},
   "source": [
    "### Sarsa\n",
    "\n",
    "更新方式為\n",
    "`Q[S][a] += α*(r+γ*Q[S'][a'] - Q[S][a]) `"
   ]
  },
  {
   "cell_type": "code",
   "execution_count": null,
   "metadata": {
    "collapsed": true,
    "jupyter": {
     "outputs_hidden": true
    }
   },
   "outputs": [],
   "source": [
    "# max policy, random, decay, no duplicate update, max(offline)\n",
    "from random import randint, random, shuffle, choice\n",
    "\n",
    "Q = np.full( (gw.size[0]+2, gw.size[1]+2, 4), 0.)\n",
    "gw_html = W.HTML()\n",
    "display(gw_html)\n",
    "\n",
    "def SARSA(g):\n",
    "    actions = [0,1,2,3]\n",
    "    prev_a = None\n",
    "    prev_pos = None\n",
    "    while True:\n",
    "        gw_html.value = g._repr_html_()\n",
    "        if random()< ϵ:\n",
    "            a = choice(actions)\n",
    "        else:\n",
    "            a = np.argmax(Q[g.pos])\n",
    "        r = g.score\n",
    "        if prev_a is not None:\n",
    "            # XXXXX\n",
    "            # 這裡來更新 Sarsa 的 Q(s, a)\n",
    "            # Q[prev_pos][prev_a] += ?                \n",
    "        if g.is_end():            \n",
    "            break\n",
    "        sleep(0.02)\n",
    "        prev_pos = g.pos\n",
    "        g.move(a)\n",
    "        prev_a = a        \n",
    "\n",
    "α = 0.1\n",
    "γ = 0.95\n",
    "ϵ = .3\n",
    "for i in range(200):\n",
    "    gw.restart()\n",
    "    gw_html.value = gw._repr_html_()\n",
    "    SARSA(gw)         \n",
    "    update_VA(gw, Q)\n",
    "    #ϵ *= 0.99"
   ]
  },
  {
   "cell_type": "markdown",
   "metadata": {},
   "source": [
    "# Function"
   ]
  },
  {
   "cell_type": "code",
   "execution_count": null,
   "metadata": {
    "collapsed": true,
    "jupyter": {
     "outputs_hidden": true
    }
   },
   "outputs": [],
   "source": [
    "# XXXXX\n",
    "# 定義一個簡單的神經網路 Q\n",
    "# from keras import \n",
    "# Q = Sequential()\n",
    "# 中間的層\n",
    "# Q.add(Dense(1, activation=\"tanh\")) # 因為輸出是 +-1\n",
    "# Q.compile(loss='mse',optimizer='sgd')\n",
    "\n",
    "# 用來 one-hot encoding （如果有需要的話）\n",
    "avectors = [[0]* 4 for i in range(4)]\n",
    "for i in range(4):\n",
    "    avectors[i][i]=1\n",
    "\n",
    "# XXXXXXX\n",
    "# 定義我們的 Q 函數 如果 s =(i,j) Qfunc(i,j) 輸出的會是 np.array([Q(s, 0), Q(s,1), Q(s,2), Q(s,3)])\n",
    "def Qfunc(i,j):\n",
    "    # XXXXXXXX\n",
    "\n",
    "# XXXXXXX\n",
    "# 用來更新 Q(s,a) 的值（目標是 v）\n",
    "def Qupdate(i, j, a, v):\n",
    "    # XXXXXXXXX\n",
    "    # Q.train_on_batch(np.array(?????, ?????)\n",
    "\n",
    "# 測試一下\n",
    "Qfunc(1,3)\n"
   ]
  },
  {
   "cell_type": "code",
   "execution_count": null,
   "metadata": {
    "collapsed": true,
    "jupyter": {
     "outputs_hidden": true
    }
   },
   "outputs": [],
   "source": [
    "from random import randint, random, shuffle, choice\n",
    "from time import sleep\n",
    "gw_html = W.HTML()\n",
    "display(gw_html)\n",
    "\n",
    "# 新的 update_VA (使用 Qfunc)\n",
    "def update_VA(gw, Qfunc):\n",
    "    if gw.A is None:\n",
    "        gw.A = np.full( (gw.size[0]+2, gw.size[1]+2), 0.)\n",
    "    if gw.V is None:\n",
    "        gw.V = np.full( (gw.size[0]+2, gw.size[1]+2), 0.)\n",
    "    for i in range(gw.size[0]):\n",
    "        for j in range(gw.size[1]):\n",
    "            Qij = Qfunc(i,j)\n",
    "            gw.A[i,j] = np.argmax(Qij)\n",
    "            gw.V[i,j] = np.max(Qij)\n",
    "    gw_html.value = gw._repr_html_()\n",
    "\n",
    "def Qlearn(g):\n",
    "    actions = [0,1,2,3]\n",
    "    while True:\n",
    "        gw_html.value = g._repr_html_()\n",
    "        if g.is_end():\n",
    "            break\n",
    "        sleep(0.02)\n",
    "        src_pos = g.pos\n",
    "        # XXXXXXXX\n",
    "        # ϵ-greedy\n",
    "        #\n",
    "        #\n",
    "        #\n",
    "        #\n",
    "        g.move(a)    \n",
    "        dst_pos = g.pos\n",
    "        r = g.score\n",
    "        if r:\n",
    "            v=r\n",
    "        else:\n",
    "            v=r+γ*Qfunc(*dst_pos).max()\n",
    "        Qupdate(*src_pos, a, v)        \n",
    "\n",
    "α = 0.1\n",
    "γ = 0.95\n",
    "ϵ = 5.\n",
    "for i in range(500):\n",
    "    gw.restart()\n",
    "    gw_html.value = gw._repr_html_()\n",
    "    Qlearn(gw)         \n",
    "    update_VA(gw, Qfunc)\n",
    "    ϵ *= 0.99"
   ]
  }
 ],
 "metadata": {
  "kernelspec": {
   "display_name": "Python 3",
   "language": "python",
   "name": "python3"
  },
  "language_info": {
   "codemirror_mode": {
    "name": "ipython",
    "version": 3
   },
   "file_extension": ".py",
   "mimetype": "text/x-python",
   "name": "python",
   "nbconvert_exporter": "python",
   "pygments_lexer": "ipython3",
   "version": "3.6.7"
  },
  "widgets": {
   "state": {
    "c45f45cf07f1415981a570d2043cf0bf": {
     "views": [
      {
       "cell_index": 4
      }
     ]
    },
    "f2a1da1b967f4fcb949ce99ac8e3669d": {
     "views": [
      {
       "cell_index": 5
      }
     ]
    }
   },
   "version": "1.2.0"
  }
 },
 "nbformat": 4,
 "nbformat_minor": 4
}
