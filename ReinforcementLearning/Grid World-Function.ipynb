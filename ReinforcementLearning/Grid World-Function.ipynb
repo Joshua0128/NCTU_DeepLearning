{
 "cells": [
  {
   "cell_type": "markdown",
   "metadata": {},
   "source": [
    "# 用函數取代表格\n",
    "\n",
    "用簡單的神經網路來取代 V"
   ]
  },
  {
   "cell_type": "code",
   "execution_count": 1,
   "metadata": {},
   "outputs": [],
   "source": [
    "import numpy as np\n",
    "from keras.models import Sequential\n",
    "from keras.layers import Dense"
   ]
  },
  {
   "cell_type": "code",
   "execution_count": 7,
   "metadata": {},
   "outputs": [],
   "source": [
    "from gridworld import GridWorld"
   ]
  },
  {
   "cell_type": "code",
   "execution_count": 8,
   "metadata": {},
   "outputs": [
    {
     "data": {
      "text/html": [
       "<table border=1><tr><td style='width: 2em;height: 2em;background: #888'><img src='img/radiation.png' style='width: 1.5em;height: 1.5em;'/></td><td style='width: 2em;height: 2em;background: #888'><img src='img/radiation.png' style='width: 1.5em;height: 1.5em;'/></td><td style='width: 2em;height: 2em;background: #888'><img src='img/radiation.png' style='width: 1.5em;height: 1.5em;'/></td><td style='width: 2em;height: 2em;background: #888'><img src='img/radiation.png' style='width: 1.5em;height: 1.5em;'/></td><td style='width: 2em;height: 2em;background: #888'><img src='img/radiation.png' style='width: 1.5em;height: 1.5em;'/></td><td style='width: 2em;height: 2em;background: #888'><img src='img/radiation.png' style='width: 1.5em;height: 1.5em;'/></td><td style='width: 2em;height: 2em;background: #888'><img src='img/radiation.png' style='width: 1.5em;height: 1.5em;'/></td></tr><tr><td style='width: 2em;height: 2em;background: #888'><img src='img/radiation.png' style='width: 1.5em;height: 1.5em;'/></td><td style='width: 2em;height: 2em;background: #888'><img src='img/pacman.png' style='width: 1.5em;height: 1.5em;transform: rotate(0deg)'/></td><td style='width: 2em;height: 2em;background: #888'></td><td style='width: 2em;height: 2em;background: #888'></td><td style='width: 2em;height: 2em;background: #888'></td><td style='width: 2em;height: 2em;background: #888'></td><td style='width: 2em;height: 2em;background: #888'><img src='img/radiation.png' style='width: 1.5em;height: 1.5em;'/></td></tr><tr><td style='width: 2em;height: 2em;background: #888'><img src='img/radiation.png' style='width: 1.5em;height: 1.5em;'/></td><td style='width: 2em;height: 2em;background: #888'></td><td style='width: 2em;height: 2em;background: #888'><img src='img/skull.png' style='width: 1.5em;height: 1.5em;'/></td><td style='width: 2em;height: 2em;background: #888'></td><td style='width: 2em;height: 2em;background: #888'></td><td style='width: 2em;height: 2em;background: #888'></td><td style='width: 2em;height: 2em;background: #888'><img src='img/radiation.png' style='width: 1.5em;height: 1.5em;'/></td></tr><tr><td style='width: 2em;height: 2em;background: #888'><img src='img/radiation.png' style='width: 1.5em;height: 1.5em;'/></td><td style='width: 2em;height: 2em;background: #888'></td><td style='width: 2em;height: 2em;background: #888'></td><td style='width: 2em;height: 2em;background: #888'></td><td style='width: 2em;height: 2em;background: #888'></td><td style='width: 2em;height: 2em;background: #888'></td><td style='width: 2em;height: 2em;background: #888'><img src='img/radiation.png' style='width: 1.5em;height: 1.5em;'/></td></tr><tr><td style='width: 2em;height: 2em;background: #888'><img src='img/radiation.png' style='width: 1.5em;height: 1.5em;'/></td><td style='width: 2em;height: 2em;background: #888'></td><td style='width: 2em;height: 2em;background: #888'></td><td style='width: 2em;height: 2em;background: #888'></td><td style='width: 2em;height: 2em;background: #888'><img src='img/skull.png' style='width: 1.5em;height: 1.5em;'/></td><td style='width: 2em;height: 2em;background: #888'></td><td style='width: 2em;height: 2em;background: #888'><img src='img/radiation.png' style='width: 1.5em;height: 1.5em;'/></td></tr><tr><td style='width: 2em;height: 2em;background: #888'><img src='img/radiation.png' style='width: 1.5em;height: 1.5em;'/></td><td style='width: 2em;height: 2em;background: #888'></td><td style='width: 2em;height: 2em;background: #888'></td><td style='width: 2em;height: 2em;background: #888'></td><td style='width: 2em;height: 2em;background: #888'></td><td style='width: 2em;height: 2em;background: #888'><img src='img/cherry.png' style='width: 1.5em;height: 1.5em;'/></td><td style='width: 2em;height: 2em;background: #888'><img src='img/radiation.png' style='width: 1.5em;height: 1.5em;'/></td></tr><tr><td style='width: 2em;height: 2em;background: #888'><img src='img/radiation.png' style='width: 1.5em;height: 1.5em;'/></td><td style='width: 2em;height: 2em;background: #888'><img src='img/radiation.png' style='width: 1.5em;height: 1.5em;'/></td><td style='width: 2em;height: 2em;background: #888'><img src='img/radiation.png' style='width: 1.5em;height: 1.5em;'/></td><td style='width: 2em;height: 2em;background: #888'><img src='img/radiation.png' style='width: 1.5em;height: 1.5em;'/></td><td style='width: 2em;height: 2em;background: #888'><img src='img/radiation.png' style='width: 1.5em;height: 1.5em;'/></td><td style='width: 2em;height: 2em;background: #888'><img src='img/radiation.png' style='width: 1.5em;height: 1.5em;'/></td><td style='width: 2em;height: 2em;background: #888'><img src='img/radiation.png' style='width: 1.5em;height: 1.5em;'/></td></tr></table>"
      ],
      "text/plain": [
       "<gridworld.GridWorld at 0x7f90b0c29ac8>"
      ]
     },
     "execution_count": 8,
     "metadata": {},
     "output_type": "execute_result"
    }
   ],
   "source": [
    "blocks={(1,1), (3,3)}\n",
    "gw = GridWorld(size=(5,5), start=(0,0), exit=(4,4), blocks=blocks)"
   ]
  },
  {
   "cell_type": "code",
   "execution_count": 9,
   "metadata": {},
   "outputs": [],
   "source": [
    "from ipywidgets import widgets as W\n",
    "from IPython.display import display"
   ]
  },
  {
   "cell_type": "code",
   "execution_count": 10,
   "metadata": {},
   "outputs": [
    {
     "data": {
      "application/vnd.jupyter.widget-view+json": {
       "model_id": "72af6f1764274a84b819d4dfdefbd7bb",
       "version_major": 2,
       "version_minor": 0
      },
      "text/html": [
       "<p>Failed to display Jupyter Widget of type <code>HBox</code>.</p>\n",
       "<p>\n",
       "  If you're reading this message in Jupyter Notebook or JupyterLab, it may mean\n",
       "  that the widgets JavaScript is still loading. If this message persists, it\n",
       "  likely means that the widgets JavaScript library is either not installed or\n",
       "  not enabled. See the <a href=\"https://ipywidgets.readthedocs.io/en/stable/user_install.html\">Jupyter\n",
       "  Widgets Documentation</a> for setup instructions.\n",
       "</p>\n",
       "<p>\n",
       "  If you're reading this message in another notebook frontend (for example, a static\n",
       "  rendering on GitHub or <a href=\"https://nbviewer.jupyter.org/\">NBViewer</a>),\n",
       "  it may mean that your frontend doesn't currently support widgets.\n",
       "</p>\n"
      ],
      "text/plain": [
       "HBox(children=(HTML(value=\"<table border=1><tr><td style='width: 2em;height: 2em;background: #888'><img src='img/radiation.png' style='width: 1.5em;height: 1.5em;'/></td><td style='width: 2em;height: 2em;background: #888'><img src='img/radiation.png' style='width: 1.5em;height: 1.5em;'/></td><td style='width: 2em;height: 2em;background: #888'><img src='img/radiation.png' style='width: 1.5em;height: 1.5em;'/></td><td style='width: 2em;height: 2em;background: #888'><img src='img/radiation.png' style='width: 1.5em;height: 1.5em;'/></td><td style='width: 2em;height: 2em;background: #888'><img src='img/radiation.png' style='width: 1.5em;height: 1.5em;'/></td><td style='width: 2em;height: 2em;background: #888'><img src='img/radiation.png' style='width: 1.5em;height: 1.5em;'/></td><td style='width: 2em;height: 2em;background: #888'><img src='img/radiation.png' style='width: 1.5em;height: 1.5em;'/></td></tr><tr><td style='width: 2em;height: 2em;background: #888'><img src='img/radiation.png' style='width: 1.5em;height: 1.5em;'/></td><td style='width: 2em;height: 2em;background: #888'><img src='img/pacman.png' style='width: 1.5em;height: 1.5em;transform: rotate(0deg)'/></td><td style='width: 2em;height: 2em;background: #888'></td><td style='width: 2em;height: 2em;background: #888'></td><td style='width: 2em;height: 2em;background: #888'></td><td style='width: 2em;height: 2em;background: #888'></td><td style='width: 2em;height: 2em;background: #888'><img src='img/radiation.png' style='width: 1.5em;height: 1.5em;'/></td></tr><tr><td style='width: 2em;height: 2em;background: #888'><img src='img/radiation.png' style='width: 1.5em;height: 1.5em;'/></td><td style='width: 2em;height: 2em;background: #888'></td><td style='width: 2em;height: 2em;background: #888'><img src='img/skull.png' style='width: 1.5em;height: 1.5em;'/></td><td style='width: 2em;height: 2em;background: #888'></td><td style='width: 2em;height: 2em;background: #888'></td><td style='width: 2em;height: 2em;background: #888'></td><td style='width: 2em;height: 2em;background: #888'><img src='img/radiation.png' style='width: 1.5em;height: 1.5em;'/></td></tr><tr><td style='width: 2em;height: 2em;background: #888'><img src='img/radiation.png' style='width: 1.5em;height: 1.5em;'/></td><td style='width: 2em;height: 2em;background: #888'></td><td style='width: 2em;height: 2em;background: #888'></td><td style='width: 2em;height: 2em;background: #888'></td><td style='width: 2em;height: 2em;background: #888'></td><td style='width: 2em;height: 2em;background: #888'></td><td style='width: 2em;height: 2em;background: #888'><img src='img/radiation.png' style='width: 1.5em;height: 1.5em;'/></td></tr><tr><td style='width: 2em;height: 2em;background: #888'><img src='img/radiation.png' style='width: 1.5em;height: 1.5em;'/></td><td style='width: 2em;height: 2em;background: #888'></td><td style='width: 2em;height: 2em;background: #888'></td><td style='width: 2em;height: 2em;background: #888'></td><td style='width: 2em;height: 2em;background: #888'><img src='img/skull.png' style='width: 1.5em;height: 1.5em;'/></td><td style='width: 2em;height: 2em;background: #888'></td><td style='width: 2em;height: 2em;background: #888'><img src='img/radiation.png' style='width: 1.5em;height: 1.5em;'/></td></tr><tr><td style='width: 2em;height: 2em;background: #888'><img src='img/radiation.png' style='width: 1.5em;height: 1.5em;'/></td><td style='width: 2em;height: 2em;background: #888'></td><td style='width: 2em;height: 2em;background: #888'></td><td style='width: 2em;height: 2em;background: #888'></td><td style='width: 2em;height: 2em;background: #888'></td><td style='width: 2em;height: 2em;background: #888'><img src='img/cherry.png' style='width: 1.5em;height: 1.5em;'/></td><td style='width: 2em;height: 2em;background: #888'><img src='img/radiation.png' style='width: 1.5em;height: 1.5em;'/></td></tr><tr><td style='width: 2em;height: 2em;background: #888'><img src='img/radiation.png' style='width: 1.5em;height: 1.5em;'/></td><td style='width: 2em;height: 2em;background: #888'><img src='img/radiation.png' style='width: 1.5em;height: 1.5em;'/></td><td style='width: 2em;height: 2em;background: #888'><img src='img/radiation.png' style='width: 1.5em;height: 1.5em;'/></td><td style='width: 2em;height: 2em;background: #888'><img src='img/radiation.png' style='width: 1.5em;height: 1.5em;'/></td><td style='width: 2em;height: 2em;background: #888'><img src='img/radiation.png' style='width: 1.5em;height: 1.5em;'/></td><td style='width: 2em;height: 2em;background: #888'><img src='img/radiation.png' style='width: 1.5em;height: 1.5em;'/></td><td style='width: 2em;height: 2em;background: #888'><img src='img/radiation.png' style='width: 1.5em;height: 1.5em;'/></td></tr></table>\"), VBox(children=(Button(icon='arrow-right', layout=Layout(width='5em'), style=ButtonStyle()), Button(icon='arrow-up', layout=Layout(width='5em'), style=ButtonStyle()), Button(icon='arrow-left', layout=Layout(width='5em'), style=ButtonStyle()), Button(icon='arrow-down', layout=Layout(width='5em'), style=ButtonStyle()), Button(icon='refresh', layout=Layout(width='5em'), style=ButtonStyle())))))"
      ]
     },
     "metadata": {},
     "output_type": "display_data"
    }
   ],
   "source": [
    "gw_html = W.HTML(value=gw._repr_html_())\n",
    "gw.restart()\n",
    "\n",
    "def gw_move(i):\n",
    "    def func(b=None):\n",
    "        gw_html.value = gw.move(i)._repr_html_()\n",
    "    return func\n",
    "\n",
    "def gw_restart(b=None):\n",
    "    gw.restart()\n",
    "    gw_html.value = gw._repr_html_()\n",
    "buttons = [] \n",
    "for i, bn in enumerate(['arrow-right', 'arrow-up', \n",
    "                        'arrow-left', 'arrow-down', 'refresh']):\n",
    "    b = W.Button(icon='fa-'+bn, layout=W.Layout(width='5em'))\n",
    "    b.on_click(gw_move(i) if i<4 else gw_restart)\n",
    "    buttons.append(b)\n",
    "\n",
    "W.HBox([gw_html, W.VBox(buttons)])\n"
   ]
  },
  {
   "cell_type": "code",
   "execution_count": null,
   "metadata": {},
   "outputs": [],
   "source": []
  },
  {
   "cell_type": "markdown",
   "metadata": {},
   "source": [
    "## 使用 Q learning\n",
    "\n",
    "Q 用簡單的神經網路來定義"
   ]
  },
  {
   "cell_type": "code",
   "execution_count": 86,
   "metadata": {},
   "outputs": [
    {
     "data": {
      "text/plain": [
       "array([-0.14697906,  0.04001945, -0.2198799 , -0.17661786], dtype=float32)"
      ]
     },
     "execution_count": 86,
     "metadata": {},
     "output_type": "execute_result"
    }
   ],
   "source": [
    "Q = Sequential()\n",
    "Q.add(Dense(128, input_shape=((gw.size[0]+2)*(gw.size[1]+2)+4,), activation=\"relu\" ))  # 輸入是 i, j 座標和 a\n",
    "Q.add(Dense(1, activation=\"tanh\")) # 因為輸出是 +-1\n",
    "Q.compile(loss='mse',optimizer='sgd', metrics=['accuracy'])\n",
    "\n",
    "avectors = [[0]* 4 for i in range(4)]\n",
    "for i in range(4):\n",
    "    avectors[i][i]=1\n",
    "def Qfunc(i,j):\n",
    "    ij = np.zeros( (gw.size[0]+2,  gw.size[1]+2))\n",
    "    ij[i, j]=1\n",
    "    ij = list(ij.ravel())\n",
    "    return np.array([Q.predict(np.array([ij+avectors[a]]))[0,0] for a in range(4)])\n",
    "\n",
    "\n",
    "def Qupdate(i, j, a, v):\n",
    "    ij = np.zeros( (gw.size[0]+2,  gw.size[1]+2))\n",
    "    ij[i, j]=1\n",
    "    ij = list(ij.ravel())\n",
    "    return Q.train_on_batch(np.array([ij+avectors[a]]), np.array([[v]]))\n",
    "\n",
    "Qfunc(1,3)\n"
   ]
  },
  {
   "cell_type": "code",
   "execution_count": 87,
   "metadata": {},
   "outputs": [
    {
     "data": {
      "application/vnd.jupyter.widget-view+json": {
       "model_id": "cbdf27987ebb451ca8dea70978a42cdd",
       "version_major": 2,
       "version_minor": 0
      },
      "text/html": [
       "<p>Failed to display Jupyter Widget of type <code>HTML</code>.</p>\n",
       "<p>\n",
       "  If you're reading this message in Jupyter Notebook or JupyterLab, it may mean\n",
       "  that the widgets JavaScript is still loading. If this message persists, it\n",
       "  likely means that the widgets JavaScript library is either not installed or\n",
       "  not enabled. See the <a href=\"https://ipywidgets.readthedocs.io/en/stable/user_install.html\">Jupyter\n",
       "  Widgets Documentation</a> for setup instructions.\n",
       "</p>\n",
       "<p>\n",
       "  If you're reading this message in another notebook frontend (for example, a static\n",
       "  rendering on GitHub or <a href=\"https://nbviewer.jupyter.org/\">NBViewer</a>),\n",
       "  it may mean that your frontend doesn't currently support widgets.\n",
       "</p>\n"
      ],
      "text/plain": [
       "HTML(value='')"
      ]
     },
     "metadata": {},
     "output_type": "display_data"
    }
   ],
   "source": [
    "from random import randint, random, shuffle, choice\n",
    "from time import sleep\n",
    "gw_html = W.HTML()\n",
    "display(gw_html)\n",
    "\n",
    "def update_VA(gw, Qfunc):\n",
    "    if gw.A is None:\n",
    "        gw.A = np.full( (gw.size[0]+2, gw.size[1]+2), -1)\n",
    "    if gw.V is None:\n",
    "        gw.V = np.full( (gw.size[0]+2, gw.size[1]+2), 2.)\n",
    "    for i in range(gw.size[0]):\n",
    "        for j in range(gw.size[1]):\n",
    "            Qij = Qfunc(i,j)\n",
    "            if Qij.min() == 2:\n",
    "                gw.A[i,j]=-1\n",
    "                gw.V[i,j]= 2\n",
    "            else:\n",
    "                gw.A[i,j] = np.argmax(np.where( Qij > 1, -2, Qij))\n",
    "                gw.V[i,j] = np.max(np.where( Qij > 1, -2, Qij))\n",
    "    gw_html.value = gw._repr_html_()\n",
    "\n",
    "def Qlearn(g):\n",
    "    actions = [0,1,2,3]\n",
    "    while True:\n",
    "        gw_html.value = g._repr_html_()\n",
    "        if g.is_end():\n",
    "            break\n",
    "        sleep(0.02)\n",
    "        src_pos = g.pos\n",
    "        Q_src = Qfunc(*src_pos)\n",
    "        if random()< ϵ:\n",
    "            a = choice(actions)\n",
    "        else:\n",
    "            a = np.argmax(Q_src)            \n",
    "        g.move(a)    \n",
    "        dst_pos = g.pos\n",
    "        r = g.score\n",
    "        if r:\n",
    "            v=r\n",
    "        else:\n",
    "            v=r+γ*Qfunc(*dst_pos).max()\n",
    "        Qupdate(*src_pos, a, v)        \n",
    "\n",
    "α = 0.1\n",
    "γ = 0.95\n",
    "ϵ = 5.\n",
    "for i in range(500):\n",
    "    gw.restart()\n",
    "    gw_html.value = gw._repr_html_()\n",
    "    Qlearn(gw)         \n",
    "    update_VA(gw, Qfunc)\n",
    "    ϵ *= 0.99"
   ]
  },
  {
   "cell_type": "code",
   "execution_count": 84,
   "metadata": {},
   "outputs": [
    {
     "data": {
      "text/plain": [
       "array([-0.10843112,  0.11411767, -0.14208817,  0.05282945], dtype=float32)"
      ]
     },
     "execution_count": 84,
     "metadata": {},
     "output_type": "execute_result"
    }
   ],
   "source": [
    "## 另外一種網路\n",
    "\n",
    "Q = Sequential()\n",
    "Q.add(Dense(128, input_shape=((gw.size[0]+2)*(gw.size[1]+2),), activation=\"relu\" ))  # 輸入是 i, j \n",
    "Q.add(Dense(4, activation=\"tanh\")) # 因為輸出是 +-1\n",
    "Q.compile(loss='mse',optimizer='sgd', metrics=['accuracy']) # 輸出 a\n",
    "\n",
    "def Qfunc(i,j):\n",
    "    ij = np.zeros( (gw.size[0]+2,  gw.size[1]+2))\n",
    "    ij[i, j]=1\n",
    "    ij = list(ij.ravel())\n",
    "    return Q.predict(np.array([ij]))[0]\n",
    "\n",
    "\n",
    "def Qupdate(i, j, a, v):\n",
    "    ij = np.zeros( (gw.size[0]+2,  gw.size[1]+2))\n",
    "    ij[i, j]=1\n",
    "    ij = list(ij.ravel())\n",
    "    Y = Q.predict(np.array([ij]))\n",
    "    Y[0][a] = v\n",
    "    return Q.train_on_batch(np.array([ij]), Y)\n",
    "\n",
    "Qfunc(1,3)\n"
   ]
  },
  {
   "cell_type": "code",
   "execution_count": null,
   "metadata": {},
   "outputs": [],
   "source": []
  }
 ],
 "metadata": {
  "kernelspec": {
   "display_name": "Python 3",
   "language": "python",
   "name": "python3"
  },
  "language_info": {
   "codemirror_mode": {
    "name": "ipython",
    "version": 3
   },
   "file_extension": ".py",
   "mimetype": "text/x-python",
   "name": "python",
   "nbconvert_exporter": "python",
   "pygments_lexer": "ipython3",
   "version": "3.5.3"
  },
  "widgets": {
   "state": {
    "c45f45cf07f1415981a570d2043cf0bf": {
     "views": [
      {
       "cell_index": 4
      }
     ]
    },
    "f2a1da1b967f4fcb949ce99ac8e3669d": {
     "views": [
      {
       "cell_index": 5
      }
     ]
    }
   },
   "version": "1.2.0"
  }
 },
 "nbformat": 4,
 "nbformat_minor": 1
}
